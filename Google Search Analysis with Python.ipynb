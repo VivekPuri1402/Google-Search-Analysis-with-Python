{
 "cells": [
  {
   "cell_type": "code",
   "execution_count": 1,
   "id": "b285c094-51fc-4049-906f-b45fc5b2d3a5",
   "metadata": {},
   "outputs": [],
   "source": [
    "import pandas as pd\n",
    "from pytrends.request import TrendReq\n",
    "import matplotlib.pyplot as plt\n",
    "import time\n",
    "import random\n"
   ]
  },
  {
   "cell_type": "code",
   "execution_count": 2,
   "id": "2bfbdfae-0104-4185-85de-fd71068b3297",
   "metadata": {},
   "outputs": [],
   "source": [
    "def safe_build_payload(trend_obj, kw_list, timeframe, retries=5, initial_delay=60):\n",
    "    delay = initial_delay\n",
    "    for i in range(retries):\n",
    "        try:\n",
    "            trend_obj.build_payload(kw_list, cat=0, timeframe=timeframe)\n",
    "            return\n",
    "        except Exception as e:\n",
    "            print(f\"Attempt {i + 1} failed: {e}\")\n",
    "            if i < retries - 1:\n",
    "                print(f\"Retrying in {delay} seconds...\")\n",
    "                time.sleep(delay + random.randint(0, 10))  # add random time to avoid detection\n",
    "                delay *= 2  # Exponential backoff\n",
    "            else:\n",
    "                raise e"
   ]
  },
  {
   "cell_type": "code",
   "execution_count": 3,
   "id": "61411761-1065-444d-bd2e-95e3f7c39e77",
   "metadata": {},
   "outputs": [],
   "source": [
    "trending_topics = TrendReq(hl='en-US', tz=360)"
   ]
  },
  {
   "cell_type": "code",
   "execution_count": 4,
   "id": "b0aabd23-6105-4b70-a301-7ea001054ebf",
   "metadata": {},
   "outputs": [],
   "source": [
    "kw_list = [\"Cloud Computing\"]\n",
    "timeframe_12m = 'today 12-m'\n",
    "timeframe_historical = '2018-01-01 2018-02-01'"
   ]
  },
  {
   "cell_type": "code",
   "execution_count": 5,
   "id": "d2381f0d-827a-4da8-86d0-e29295d864cb",
   "metadata": {},
   "outputs": [],
   "source": [
    "safe_build_payload(trending_topics, kw_list, timeframe_12m)"
   ]
  },
  {
   "cell_type": "code",
   "execution_count": 6,
   "id": "edd395e1-f120-4158-8982-c030fb3b2d0c",
   "metadata": {},
   "outputs": [
    {
     "name": "stdout",
     "output_type": "stream",
     "text": [
      "Interest Over Time (Top 10):\n",
      "            Cloud Computing  isPartial\n",
      "date                                  \n",
      "2023-12-03              100      False\n",
      "2023-12-10               89      False\n",
      "2023-05-21               84      False\n",
      "2024-05-19               84       True\n",
      "2023-11-26               83      False\n",
      "2023-09-24               81      False\n",
      "2023-11-19               79      False\n",
      "2024-01-28               79      False\n",
      "2023-10-08               79      False\n",
      "2023-10-29               79      False\n"
     ]
    },
    {
     "name": "stderr",
     "output_type": "stream",
     "text": [
      "C:\\Users\\Ankit\\AppData\\Local\\Programs\\Python\\Python312\\Lib\\site-packages\\pytrends\\request.py:260: FutureWarning: Downcasting object dtype arrays on .fillna, .ffill, .bfill is deprecated and will change in a future version. Call result.infer_objects(copy=False) instead. To opt-in to the future behavior, set `pd.set_option('future.no_silent_downcasting', True)`\n",
      "  df = df.fillna(False)\n"
     ]
    }
   ],
   "source": [
    "data = trending_topics.interest_over_time()\n",
    "data = data.sort_values(by=\"Cloud Computing\", ascending=False).head(10)\n",
    "print(\"Interest Over Time (Top 10):\")\n",
    "print(data)"
   ]
  },
  {
   "cell_type": "code",
   "execution_count": 7,
   "id": "7ccbd9b8-d3eb-4ba3-b107-41d4c47ae429",
   "metadata": {},
   "outputs": [],
   "source": [
    "time.sleep(60 + random.randint(0, 10))"
   ]
  },
  {
   "cell_type": "code",
   "execution_count": 8,
   "id": "085b9739-1602-4585-8f3c-27264df6e7cb",
   "metadata": {},
   "outputs": [
    {
     "ename": "TooManyRequestsError",
     "evalue": "The request failed: Google returned a response with code 429",
     "output_type": "error",
     "traceback": [
      "\u001b[1;31m---------------------------------------------------------------------------\u001b[0m",
      "\u001b[1;31mTooManyRequestsError\u001b[0m                      Traceback (most recent call last)",
      "Cell \u001b[1;32mIn[8], line 2\u001b[0m\n\u001b[0;32m      1\u001b[0m safe_build_payload(trending_topics, kw_list, timeframe_historical)\n\u001b[1;32m----> 2\u001b[0m data_historical \u001b[38;5;241m=\u001b[39m \u001b[43mtrending_topics\u001b[49m\u001b[38;5;241;43m.\u001b[39;49m\u001b[43minterest_over_time\u001b[49m\u001b[43m(\u001b[49m\u001b[43m)\u001b[49m\n\u001b[0;32m      3\u001b[0m data_historical \u001b[38;5;241m=\u001b[39m data_historical\u001b[38;5;241m.\u001b[39msort_values(by\u001b[38;5;241m=\u001b[39m\u001b[38;5;124m\"\u001b[39m\u001b[38;5;124mCloud Computing\u001b[39m\u001b[38;5;124m\"\u001b[39m, ascending\u001b[38;5;241m=\u001b[39m\u001b[38;5;28;01mFalse\u001b[39;00m)\u001b[38;5;241m.\u001b[39mhead(\u001b[38;5;241m10\u001b[39m)\n\u001b[0;32m      4\u001b[0m \u001b[38;5;28mprint\u001b[39m(\u001b[38;5;124m\"\u001b[39m\u001b[38;5;124mHistorical Interest (Top 10) for January 2018:\u001b[39m\u001b[38;5;124m\"\u001b[39m)\n",
      "File \u001b[1;32m~\\AppData\\Local\\Programs\\Python\\Python312\\Lib\\site-packages\\pytrends\\request.py:232\u001b[0m, in \u001b[0;36mTrendReq.interest_over_time\u001b[1;34m(self)\u001b[0m\n\u001b[0;32m    224\u001b[0m over_time_payload \u001b[38;5;241m=\u001b[39m {\n\u001b[0;32m    225\u001b[0m     \u001b[38;5;66;03m# convert to string as requests will mangle\u001b[39;00m\n\u001b[0;32m    226\u001b[0m     \u001b[38;5;124m'\u001b[39m\u001b[38;5;124mreq\u001b[39m\u001b[38;5;124m'\u001b[39m: json\u001b[38;5;241m.\u001b[39mdumps(\u001b[38;5;28mself\u001b[39m\u001b[38;5;241m.\u001b[39minterest_over_time_widget[\u001b[38;5;124m'\u001b[39m\u001b[38;5;124mrequest\u001b[39m\u001b[38;5;124m'\u001b[39m]),\n\u001b[0;32m    227\u001b[0m     \u001b[38;5;124m'\u001b[39m\u001b[38;5;124mtoken\u001b[39m\u001b[38;5;124m'\u001b[39m: \u001b[38;5;28mself\u001b[39m\u001b[38;5;241m.\u001b[39minterest_over_time_widget[\u001b[38;5;124m'\u001b[39m\u001b[38;5;124mtoken\u001b[39m\u001b[38;5;124m'\u001b[39m],\n\u001b[0;32m    228\u001b[0m     \u001b[38;5;124m'\u001b[39m\u001b[38;5;124mtz\u001b[39m\u001b[38;5;124m'\u001b[39m: \u001b[38;5;28mself\u001b[39m\u001b[38;5;241m.\u001b[39mtz\n\u001b[0;32m    229\u001b[0m }\n\u001b[0;32m    231\u001b[0m \u001b[38;5;66;03m# make the request and parse the returned json\u001b[39;00m\n\u001b[1;32m--> 232\u001b[0m req_json \u001b[38;5;241m=\u001b[39m \u001b[38;5;28;43mself\u001b[39;49m\u001b[38;5;241;43m.\u001b[39;49m\u001b[43m_get_data\u001b[49m\u001b[43m(\u001b[49m\n\u001b[0;32m    233\u001b[0m \u001b[43m    \u001b[49m\u001b[43murl\u001b[49m\u001b[38;5;241;43m=\u001b[39;49m\u001b[43mTrendReq\u001b[49m\u001b[38;5;241;43m.\u001b[39;49m\u001b[43mINTEREST_OVER_TIME_URL\u001b[49m\u001b[43m,\u001b[49m\n\u001b[0;32m    234\u001b[0m \u001b[43m    \u001b[49m\u001b[43mmethod\u001b[49m\u001b[38;5;241;43m=\u001b[39;49m\u001b[43mTrendReq\u001b[49m\u001b[38;5;241;43m.\u001b[39;49m\u001b[43mGET_METHOD\u001b[49m\u001b[43m,\u001b[49m\n\u001b[0;32m    235\u001b[0m \u001b[43m    \u001b[49m\u001b[43mtrim_chars\u001b[49m\u001b[38;5;241;43m=\u001b[39;49m\u001b[38;5;241;43m5\u001b[39;49m\u001b[43m,\u001b[49m\n\u001b[0;32m    236\u001b[0m \u001b[43m    \u001b[49m\u001b[43mparams\u001b[49m\u001b[38;5;241;43m=\u001b[39;49m\u001b[43mover_time_payload\u001b[49m\u001b[43m,\u001b[49m\n\u001b[0;32m    237\u001b[0m \u001b[43m\u001b[49m\u001b[43m)\u001b[49m\n\u001b[0;32m    239\u001b[0m df \u001b[38;5;241m=\u001b[39m pd\u001b[38;5;241m.\u001b[39mDataFrame(req_json[\u001b[38;5;124m'\u001b[39m\u001b[38;5;124mdefault\u001b[39m\u001b[38;5;124m'\u001b[39m][\u001b[38;5;124m'\u001b[39m\u001b[38;5;124mtimelineData\u001b[39m\u001b[38;5;124m'\u001b[39m])\n\u001b[0;32m    240\u001b[0m \u001b[38;5;28;01mif\u001b[39;00m (df\u001b[38;5;241m.\u001b[39mempty):\n",
      "File \u001b[1;32m~\\AppData\\Local\\Programs\\Python\\Python312\\Lib\\site-packages\\pytrends\\request.py:159\u001b[0m, in \u001b[0;36mTrendReq._get_data\u001b[1;34m(self, url, method, trim_chars, **kwargs)\u001b[0m\n\u001b[0;32m    157\u001b[0m \u001b[38;5;28;01melse\u001b[39;00m:\n\u001b[0;32m    158\u001b[0m     \u001b[38;5;28;01mif\u001b[39;00m response\u001b[38;5;241m.\u001b[39mstatus_code \u001b[38;5;241m==\u001b[39m status_codes\u001b[38;5;241m.\u001b[39mcodes\u001b[38;5;241m.\u001b[39mtoo_many_requests:\n\u001b[1;32m--> 159\u001b[0m         \u001b[38;5;28;01mraise\u001b[39;00m exceptions\u001b[38;5;241m.\u001b[39mTooManyRequestsError\u001b[38;5;241m.\u001b[39mfrom_response(response)\n\u001b[0;32m    160\u001b[0m     \u001b[38;5;28;01mraise\u001b[39;00m exceptions\u001b[38;5;241m.\u001b[39mResponseError\u001b[38;5;241m.\u001b[39mfrom_response(response)\n",
      "\u001b[1;31mTooManyRequestsError\u001b[0m: The request failed: Google returned a response with code 429"
     ]
    }
   ],
   "source": [
    "safe_build_payload(trending_topics, kw_list, timeframe_historical)\n",
    "data_historical = trending_topics.interest_over_time()\n",
    "data_historical = data_historical.sort_values(by=\"Cloud Computing\", ascending=False).head(10)\n",
    "print(\"Historical Interest (Top 10) for January 2018:\")\n",
    "print(data_historical)"
   ]
  },
  {
   "cell_type": "code",
   "execution_count": null,
   "id": "ddaca187-c836-41f1-9983-16ae58dc32e1",
   "metadata": {},
   "outputs": [],
   "source": [
    "time.sleep(60 + random.randint(0, 10))\n",
    "safe_build_payload(trending_topics, kw_list, timeframe_12m)\n",
    "data_region = trending_topics.interest_by_region()\n",
    "data_region = data_region.sort_values(by=\"Cloud Computing\", ascending=False).head(10)\n",
    "print(\"Interest by Region (Top 10):\")\n",
    "print(data_region)"
   ]
  },
  {
   "cell_type": "code",
   "execution_count": null,
   "id": "6ef4b5e0-c7c3-4290-953a-5b6bbb9362f5",
   "metadata": {},
   "outputs": [],
   "source": [
    "data_region.reset_index().plot(x='geoName', y='Cloud Computing', figsize=(10,5), kind=\"bar\")\n",
    "plt.title('Top 10 Regions Interested in Cloud Computing')\n",
    "plt.style.use('fivethirtyeight')\n",
    "plt.show()"
   ]
  },
  {
   "cell_type": "code",
   "execution_count": null,
   "id": "1c3c135c-9643-40de-bf2e-5833af9bde08",
   "metadata": {},
   "outputs": [],
   "source": [
    "time.sleep(60 + random.randint(0, 10))\n",
    "df_top_charts = trending_topics.top_charts(2020, hl='en-US', tz=300, geo='GLOBAL')\n",
    "print(\"Top Charts of 2020:\")\n",
    "print(df_top_charts.head(10))"
   ]
  },
  {
   "cell_type": "code",
   "execution_count": null,
   "id": "75c9017e-03af-44cd-8bc9-ee6a319e48bb",
   "metadata": {},
   "outputs": [],
   "source": [
    "time.sleep(60 + random.randint(0, 10))\n",
    "safe_build_payload(trending_topics, kw_list, timeframe_12m)\n",
    "related_queries = trending_topics.related_queries()\n",
    "print(\"Related Queries:\")\n",
    "print(related_queries)"
   ]
  },
  {
   "cell_type": "code",
   "execution_count": null,
   "id": "f4c31951-ab0d-4106-a24f-4b2bdb7a4470",
   "metadata": {},
   "outputs": [],
   "source": [
    "time.sleep(60 + random.randint(0, 10))\n",
    "keywords = trending_topics.suggestions(keyword='Cloud Computing')\n",
    "df_suggestions = pd.DataFrame(keywords).drop(columns='mid')\n",
    "print(\"Keyword Suggestions:\")\n",
    "print(df_suggestions)"
   ]
  },
  {
   "cell_type": "code",
   "execution_count": null,
   "id": "99921383-9b53-478d-94b2-ed33736cdf85",
   "metadata": {},
   "outputs": [],
   "source": []
  },
  {
   "cell_type": "code",
   "execution_count": null,
   "id": "d8dd0243-2466-49b1-b8c6-bf7cc3ac6fb7",
   "metadata": {},
   "outputs": [],
   "source": []
  },
  {
   "cell_type": "raw",
   "id": "a956587f-3632-421d-9533-0849bf5b3130",
   "metadata": {},
   "source": []
  }
 ],
 "metadata": {
  "kernelspec": {
   "display_name": "Python 3 (ipykernel)",
   "language": "python",
   "name": "python3"
  },
  "language_info": {
   "codemirror_mode": {
    "name": "ipython",
    "version": 3
   },
   "file_extension": ".py",
   "mimetype": "text/x-python",
   "name": "python",
   "nbconvert_exporter": "python",
   "pygments_lexer": "ipython3",
   "version": "3.12.3"
  }
 },
 "nbformat": 4,
 "nbformat_minor": 5
}
